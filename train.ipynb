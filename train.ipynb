{
  "nbformat": 4,
  "nbformat_minor": 0,
  "metadata": {
    "colab": {
      "name": "new_train.ipynb",
      "provenance": [],
      "collapsed_sections": []
    },
    "kernelspec": {
      "name": "python3",
      "display_name": "Python 3"
    },
    "language_info": {
      "name": "python"
    },
    "accelerator": "GPU"
  },
  "cells": [
    {
      "cell_type": "code",
      "metadata": {
        "id": "DzX60wa_mjI8",
        "colab": {
          "base_uri": "https://localhost:8080/"
        },
        "outputId": "b7a2a4f3-a363-49b0-b615-d64b5a83dcc2"
      },
      "source": [
        "from google.colab import drive\n",
        "drive.mount(\"/content/drive\")"
      ],
      "execution_count": null,
      "outputs": [
        {
          "output_type": "stream",
          "name": "stdout",
          "text": [
            "Drive already mounted at /content/drive; to attempt to forcibly remount, call drive.mount(\"/content/drive\", force_remount=True).\n"
          ]
        }
      ]
    },
    {
      "cell_type": "code",
      "metadata": {
        "id": "RQ-0SFy-ky5H"
      },
      "source": [
        "from os import listdir\n",
        "import cv2\n",
        "import numpy as np\n",
        "import pickle\n",
        "from sklearn.preprocessing import OneHotEncoder\n",
        "from sklearn.model_selection import train_test_split\n",
        "from keras.applications.vgg16 import VGG16\n",
        "from keras.layers import Input, Flatten, Dense, Dropout\n",
        "from keras.models import Model\n",
        "from keras.callbacks import ModelCheckpoint\n",
        "import matplotlib.pyplot as plt\n",
        "import random\n",
        "from keras.preprocessing.image import ImageDataGenerator"
      ],
      "execution_count": null,
      "outputs": []
    },
    {
      "cell_type": "code",
      "metadata": {
        "colab": {
          "base_uri": "https://localhost:8080/"
        },
        "id": "1jIhLsebIb4P",
        "outputId": "451fcf38-0018-466f-c047-1b377b817250"
      },
      "source": [
        "#cd /content/drive/MyDrive/Colab Notebooks/NienLuanNganh"
      ],
      "execution_count": null,
      "outputs": [
        {
          "output_type": "stream",
          "name": "stdout",
          "text": [
            "/content/drive/MyDrive/Colab Notebooks/NienLuanNganh\n"
          ]
        }
      ]
    },
    {
      "cell_type": "code",
      "metadata": {
        "id": "T6DSeI2cIPGF"
      },
      "source": [
        "raw_folder = \"./money_data/\"\n",
        "def save_data(raw_folder=raw_folder):\n",
        "    print(\"Bắt đầu xử lý ảnh...\")\n",
        "\n",
        "    pixels = []\n",
        "    labels = []\n",
        "\n",
        "    # Lặp qua các folder con trong thư mục raw\n",
        "    for folder in listdir(raw_folder):\n",
        "        if folder!='.DS_Store':\n",
        "            print(\"Folder=\",folder)\n",
        "            # Lặp qua các file trong từng thư mục chứa các em\n",
        "            for file in listdir(raw_folder  + folder):\n",
        "                if file!='.DS_Store':\n",
        "                    print(\"File=\", file)\n",
        "                    pixels.append( cv2.resize(cv2.imread(raw_folder  + folder +\"/\" + file),dsize=(224,224)))\n",
        "                    labels.append( folder)\n",
        "\n",
        "    pixels = np.array(pixels)\n",
        "    labels = np.array(labels)#.reshape(-1,1)\n",
        "\n",
        "    from sklearn.preprocessing import LabelBinarizer\n",
        "    encoder = LabelBinarizer()\n",
        "    labels = encoder.fit_transform(labels)\n",
        "    print(labels)\n",
        "\n",
        "    file = open('moneydata.data', 'wb')\n",
        "    # dump information to that file\n",
        "    pickle.dump((pixels,labels), file)\n",
        "    # close the file\n",
        "    file.close()\n",
        "\n",
        "    return"
      ],
      "execution_count": null,
      "outputs": []
    },
    {
      "cell_type": "code",
      "metadata": {
        "id": "CwEoY1U4IugF"
      },
      "source": [
        "save_data()"
      ],
      "execution_count": null,
      "outputs": []
    },
    {
      "cell_type": "code",
      "metadata": {
        "id": "iCSxJh57k1lG"
      },
      "source": [
        "def load_data():\n",
        "    file = open('./moneydata.data', 'rb')\n",
        "\n",
        "    # dump information to that file\n",
        "    (pixels, labels) = pickle.load(file)\n",
        "\n",
        "    # close the file\n",
        "    file.close()\n",
        "\n",
        "    print(pixels.shape)\n",
        "    print(labels.shape)\n",
        "\n",
        "    return pixels, labels"
      ],
      "execution_count": null,
      "outputs": []
    },
    {
      "cell_type": "code",
      "metadata": {
        "colab": {
          "base_uri": "https://localhost:8080/"
        },
        "id": "h1Wnj3crlWX2",
        "outputId": "f8228642-8003-4128-931a-d75f484a9460"
      },
      "source": [
        "X,y = load_data()"
      ],
      "execution_count": null,
      "outputs": [
        {
          "output_type": "stream",
          "name": "stdout",
          "text": [
            "(738, 224, 224, 3)\n",
            "(738, 7)\n"
          ]
        }
      ]
    },
    {
      "cell_type": "code",
      "metadata": {
        "id": "Z2s5reJHlf4r"
      },
      "source": [
        "X_train, X_test, y_train, y_test = train_test_split( X, y, test_size=0.2, random_state=100)"
      ],
      "execution_count": null,
      "outputs": []
    },
    {
      "cell_type": "code",
      "metadata": {
        "colab": {
          "base_uri": "https://localhost:8080/"
        },
        "id": "nmXGuEo5W4F5",
        "outputId": "cb076749-b9f0-4ee7-f299-f2cd41895b17"
      },
      "source": [
        "y_train"
      ],
      "execution_count": null,
      "outputs": [
        {
          "output_type": "execute_result",
          "data": {
            "text/plain": [
              "array([[0, 0, 0, ..., 0, 0, 0],\n",
              "       [0, 0, 0, ..., 0, 0, 0],\n",
              "       [0, 0, 0, ..., 1, 0, 0],\n",
              "       ...,\n",
              "       [0, 0, 1, ..., 0, 0, 0],\n",
              "       [0, 1, 0, ..., 0, 0, 0],\n",
              "       [0, 0, 0, ..., 1, 0, 0]])"
            ]
          },
          "metadata": {},
          "execution_count": 18
        }
      ]
    },
    {
      "cell_type": "code",
      "metadata": {
        "id": "ziBNNboZljxc",
        "colab": {
          "base_uri": "https://localhost:8080/"
        },
        "outputId": "28ae2c5a-588a-487f-db7d-554100346b75"
      },
      "source": [
        "model_vgg16_conv = VGG16(weights='imagenet', \n",
        "                         include_top=False)"
      ],
      "execution_count": null,
      "outputs": [
        {
          "output_type": "stream",
          "name": "stdout",
          "text": [
            "Downloading data from https://storage.googleapis.com/tensorflow/keras-applications/vgg16/vgg16_weights_tf_dim_ordering_tf_kernels_notop.h5\n",
            "58892288/58889256 [==============================] - 1s 0us/step\n",
            "58900480/58889256 [==============================] - 1s 0us/step\n"
          ]
        }
      ]
    },
    {
      "cell_type": "code",
      "metadata": {
        "id": "3dsGJRHdlo97"
      },
      "source": [
        "# Dong bang cac layer\n",
        "for layer in model_vgg16_conv.layers:\n",
        "  layer.trainable = False"
      ],
      "execution_count": null,
      "outputs": []
    },
    {
      "cell_type": "code",
      "metadata": {
        "id": "3Y_JEA7elzET"
      },
      "source": [
        "# Tao model\n",
        "input = Input(shape=(224,224,3), name='image_input')\n",
        "output_vgg16_conv = model_vgg16_conv(input)\n",
        "\n",
        "# Them cac layer FC va Dropout\n",
        "x = Flatten(name='flatten')(output_vgg16_conv)\n",
        "x = Dense(4096, activation='relu', name='fc1')(x)\n",
        "x = Dropout(0.5)(x)\n",
        "x = Dense(4096, activation='relu', name='fc2')(x)\n",
        "x = Dropout(0.5)(x)\n",
        "x = Dense(7, activation='softmax', name='predictions')(x)\n",
        "\n",
        "# Compile\n",
        "vggmodel = Model(inputs=input, outputs=x)\n",
        "vggmodel.compile(loss='categorical_crossentropy', optimizer='adam', metrics=['accuracy'])"
      ],
      "execution_count": null,
      "outputs": []
    },
    {
      "cell_type": "code",
      "metadata": {
        "id": "6L72qXXEl7ix"
      },
      "source": [
        "#vggmodel.summary()"
      ],
      "execution_count": null,
      "outputs": []
    },
    {
      "cell_type": "code",
      "metadata": {
        "id": "3fMe8Qaas5vK"
      },
      "source": [
        "aug = ImageDataGenerator(rotation_range=20, zoom_range=0.1,\n",
        "    rescale=1./255,\n",
        "\twidth_shift_range=0.1,\n",
        "    height_shift_range=0.1,\n",
        "\thorizontal_flip=True,\n",
        "    brightness_range=[0.2,1.5], fill_mode=\"nearest\")"
      ],
      "execution_count": null,
      "outputs": []
    },
    {
      "cell_type": "code",
      "metadata": {
        "id": "asKvVSpTs90Y"
      },
      "source": [
        "aug_val = ImageDataGenerator(rescale=1./255)"
      ],
      "execution_count": null,
      "outputs": []
    },
    {
      "cell_type": "code",
      "metadata": {
        "id": "ZwRKl5uopzv3"
      },
      "source": [
        "filepath=\"weights-{epoch:02d}-{val_accuracy:.2f}.hdf5\"\n",
        "checkpoint = ModelCheckpoint(filepath, monitor='val_accuracy', verbose=1, save_best_only=True, mode='max')\n",
        "callbacks_list = [checkpoint]"
      ],
      "execution_count": null,
      "outputs": []
    },
    {
      "cell_type": "code",
      "metadata": {
        "id": "QnurhQVRtBKJ",
        "colab": {
          "base_uri": "https://localhost:8080/"
        },
        "outputId": "8de1c902-ef81-4d27-9fbb-4c3269e2b030"
      },
      "source": [
        "vgghist=vggmodel.fit_generator(aug.flow(X_train, y_train, batch_size=64),\n",
        "                               epochs=30,# steps_per_epoch=len(X_train)//64,\n",
        "                               validation_data=aug.flow(X_test,y_test,\n",
        "                               batch_size=len(X_test)),\n",
        "                               callbacks=callbacks_list)"
      ],
      "execution_count": null,
      "outputs": [
        {
          "output_type": "stream",
          "name": "stderr",
          "text": [
            "/usr/local/lib/python3.7/dist-packages/keras/engine/training.py:1972: UserWarning: `Model.fit_generator` is deprecated and will be removed in a future version. Please use `Model.fit`, which supports generators.\n",
            "  warnings.warn('`Model.fit_generator` is deprecated and '\n"
          ]
        },
        {
          "output_type": "stream",
          "name": "stdout",
          "text": [
            "Epoch 1/30\n",
            "10/10 [==============================] - 15s 2s/step - loss: 0.5362 - accuracy: 0.7932 - val_loss: 0.2733 - val_accuracy: 0.9189\n",
            "\n",
            "Epoch 00001: val_accuracy did not improve from 0.98649\n",
            "Epoch 2/30\n",
            "10/10 [==============================] - 13s 1s/step - loss: 0.5078 - accuracy: 0.7949 - val_loss: 0.2198 - val_accuracy: 0.9392\n",
            "\n",
            "Epoch 00002: val_accuracy did not improve from 0.98649\n",
            "Epoch 3/30\n",
            "10/10 [==============================] - 13s 1s/step - loss: 0.4722 - accuracy: 0.8119 - val_loss: 0.1709 - val_accuracy: 0.9595\n",
            "\n",
            "Epoch 00003: val_accuracy did not improve from 0.98649\n",
            "Epoch 4/30\n",
            "10/10 [==============================] - 13s 1s/step - loss: 0.4804 - accuracy: 0.8068 - val_loss: 0.1616 - val_accuracy: 0.9459\n",
            "\n",
            "Epoch 00004: val_accuracy did not improve from 0.98649\n",
            "Epoch 5/30\n",
            "10/10 [==============================] - 13s 1s/step - loss: 0.4460 - accuracy: 0.8169 - val_loss: 0.1983 - val_accuracy: 0.9662\n",
            "\n",
            "Epoch 00005: val_accuracy did not improve from 0.98649\n",
            "Epoch 6/30\n",
            "10/10 [==============================] - 13s 1s/step - loss: 0.4051 - accuracy: 0.8356 - val_loss: 0.2189 - val_accuracy: 0.9324\n",
            "\n",
            "Epoch 00006: val_accuracy did not improve from 0.98649\n",
            "Epoch 7/30\n",
            "10/10 [==============================] - 13s 1s/step - loss: 0.4111 - accuracy: 0.8339 - val_loss: 0.1614 - val_accuracy: 0.9392\n",
            "\n",
            "Epoch 00007: val_accuracy did not improve from 0.98649\n",
            "Epoch 8/30\n",
            "10/10 [==============================] - 13s 1s/step - loss: 0.5148 - accuracy: 0.8102 - val_loss: 0.3209 - val_accuracy: 0.8851\n",
            "\n",
            "Epoch 00008: val_accuracy did not improve from 0.98649\n",
            "Epoch 9/30\n",
            "10/10 [==============================] - 13s 1s/step - loss: 0.4871 - accuracy: 0.8102 - val_loss: 0.1760 - val_accuracy: 0.9527\n",
            "\n",
            "Epoch 00009: val_accuracy did not improve from 0.98649\n",
            "Epoch 10/30\n",
            "10/10 [==============================] - 13s 1s/step - loss: 0.4221 - accuracy: 0.8356 - val_loss: 0.1523 - val_accuracy: 0.9459\n",
            "\n",
            "Epoch 00010: val_accuracy did not improve from 0.98649\n",
            "Epoch 11/30\n",
            "10/10 [==============================] - 13s 1s/step - loss: 0.4573 - accuracy: 0.8220 - val_loss: 0.1489 - val_accuracy: 0.9392\n",
            "\n",
            "Epoch 00011: val_accuracy did not improve from 0.98649\n",
            "Epoch 12/30\n",
            "10/10 [==============================] - 13s 1s/step - loss: 0.3608 - accuracy: 0.8610 - val_loss: 0.2488 - val_accuracy: 0.9189\n",
            "\n",
            "Epoch 00012: val_accuracy did not improve from 0.98649\n",
            "Epoch 13/30\n",
            "10/10 [==============================] - 13s 1s/step - loss: 0.3971 - accuracy: 0.8542 - val_loss: 0.1857 - val_accuracy: 0.9257\n",
            "\n",
            "Epoch 00013: val_accuracy did not improve from 0.98649\n",
            "Epoch 14/30\n",
            "10/10 [==============================] - 13s 1s/step - loss: 0.4547 - accuracy: 0.8203 - val_loss: 0.1578 - val_accuracy: 0.9730\n",
            "\n",
            "Epoch 00014: val_accuracy did not improve from 0.98649\n",
            "Epoch 15/30\n",
            "10/10 [==============================] - 13s 1s/step - loss: 0.4722 - accuracy: 0.8186 - val_loss: 0.1887 - val_accuracy: 0.9392\n",
            "\n",
            "Epoch 00015: val_accuracy did not improve from 0.98649\n",
            "Epoch 16/30\n",
            "10/10 [==============================] - 13s 1s/step - loss: 0.3707 - accuracy: 0.8525 - val_loss: 0.1113 - val_accuracy: 0.9797\n",
            "\n",
            "Epoch 00016: val_accuracy did not improve from 0.98649\n",
            "Epoch 17/30\n",
            "10/10 [==============================] - 13s 1s/step - loss: 0.3825 - accuracy: 0.8475 - val_loss: 0.0871 - val_accuracy: 0.9730\n",
            "\n",
            "Epoch 00017: val_accuracy did not improve from 0.98649\n",
            "Epoch 18/30\n",
            "10/10 [==============================] - 13s 1s/step - loss: 0.3354 - accuracy: 0.8644 - val_loss: 0.1334 - val_accuracy: 0.9662\n",
            "\n",
            "Epoch 00018: val_accuracy did not improve from 0.98649\n",
            "Epoch 19/30\n",
            "10/10 [==============================] - 13s 1s/step - loss: 0.3849 - accuracy: 0.8424 - val_loss: 0.1549 - val_accuracy: 0.9595\n",
            "\n",
            "Epoch 00019: val_accuracy did not improve from 0.98649\n",
            "Epoch 20/30\n",
            "10/10 [==============================] - 13s 1s/step - loss: 0.3803 - accuracy: 0.8305 - val_loss: 0.1412 - val_accuracy: 0.9527\n",
            "\n",
            "Epoch 00020: val_accuracy did not improve from 0.98649\n",
            "Epoch 21/30\n",
            "10/10 [==============================] - 13s 1s/step - loss: 0.3436 - accuracy: 0.8678 - val_loss: 0.1210 - val_accuracy: 0.9662\n",
            "\n",
            "Epoch 00021: val_accuracy did not improve from 0.98649\n",
            "Epoch 22/30\n",
            "10/10 [==============================] - 13s 1s/step - loss: 0.4629 - accuracy: 0.8254 - val_loss: 0.1583 - val_accuracy: 0.9527\n",
            "\n",
            "Epoch 00022: val_accuracy did not improve from 0.98649\n",
            "Epoch 23/30\n",
            "10/10 [==============================] - 13s 1s/step - loss: 0.3822 - accuracy: 0.8475 - val_loss: 0.1438 - val_accuracy: 0.9730\n",
            "\n",
            "Epoch 00023: val_accuracy did not improve from 0.98649\n",
            "Epoch 24/30\n",
            "10/10 [==============================] - 13s 1s/step - loss: 0.4748 - accuracy: 0.7949 - val_loss: 0.1659 - val_accuracy: 0.9459\n",
            "\n",
            "Epoch 00024: val_accuracy did not improve from 0.98649\n",
            "Epoch 25/30\n",
            "10/10 [==============================] - 13s 1s/step - loss: 0.5180 - accuracy: 0.7881 - val_loss: 0.1897 - val_accuracy: 0.9459\n",
            "\n",
            "Epoch 00025: val_accuracy did not improve from 0.98649\n",
            "Epoch 26/30\n",
            "10/10 [==============================] - 13s 1s/step - loss: 0.4288 - accuracy: 0.8305 - val_loss: 0.1830 - val_accuracy: 0.9257\n",
            "\n",
            "Epoch 00026: val_accuracy did not improve from 0.98649\n",
            "Epoch 27/30\n",
            "10/10 [==============================] - 13s 1s/step - loss: 0.4406 - accuracy: 0.8254 - val_loss: 0.1865 - val_accuracy: 0.9459\n",
            "\n",
            "Epoch 00027: val_accuracy did not improve from 0.98649\n",
            "Epoch 28/30\n",
            "10/10 [==============================] - 13s 1s/step - loss: 0.4045 - accuracy: 0.8424 - val_loss: 0.1215 - val_accuracy: 0.9662\n",
            "\n",
            "Epoch 00028: val_accuracy did not improve from 0.98649\n",
            "Epoch 29/30\n",
            "10/10 [==============================] - 13s 1s/step - loss: 0.3973 - accuracy: 0.8220 - val_loss: 0.1550 - val_accuracy: 0.9527\n",
            "\n",
            "Epoch 00029: val_accuracy did not improve from 0.98649\n",
            "Epoch 30/30\n",
            "10/10 [==============================] - 13s 1s/step - loss: 0.3533 - accuracy: 0.8542 - val_loss: 0.0987 - val_accuracy: 0.9932\n",
            "\n",
            "Epoch 00030: val_accuracy improved from 0.98649 to 0.99324, saving model to weights-30-0.99.hdf5\n"
          ]
        }
      ]
    }
  ]
}