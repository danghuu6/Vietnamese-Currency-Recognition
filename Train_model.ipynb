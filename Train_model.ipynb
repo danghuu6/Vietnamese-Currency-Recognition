{
  "nbformat": 4,
  "nbformat_minor": 0,
  "metadata": {
    "colab": {
      "name": "Train_model.ipynb",
      "provenance": [],
      "collapsed_sections": []
    },
    "kernelspec": {
      "name": "python3",
      "display_name": "Python 3"
    },
    "language_info": {
      "name": "python"
    },
    "accelerator": "GPU"
  },
  "cells": [
    {
      "cell_type": "code",
      "metadata": {
        "id": "DzX60wa_mjI8",
        "colab": {
          "base_uri": "https://localhost:8080/"
        },
        "outputId": "a13d02cd-aa10-4e5f-ab5c-37891323b6bc"
      },
      "source": [
        "from google.colab import drive\n",
        "drive.mount(\"/content/drive\")"
      ],
      "execution_count": null,
      "outputs": [
        {
          "output_type": "stream",
          "name": "stdout",
          "text": [
            "Mounted at /content/drive\n"
          ]
        }
      ]
    },
    {
      "cell_type": "code",
      "metadata": {
        "id": "RQ-0SFy-ky5H"
      },
      "source": [
        "from os import listdir\n",
        "import cv2\n",
        "import numpy as np\n",
        "import pickle\n",
        "from sklearn.preprocessing import OneHotEncoder\n",
        "from sklearn.model_selection import train_test_split\n",
        "from keras.applications.vgg16 import VGG16\n",
        "from keras.layers import Input, Flatten, Dense, Dropout\n",
        "from keras.models import Model\n",
        "from keras.callbacks import ModelCheckpoint\n",
        "import matplotlib.pyplot as plt\n",
        "import random\n",
        "from keras.preprocessing.image import ImageDataGenerator"
      ],
      "execution_count": null,
      "outputs": []
    },
    {
      "cell_type": "code",
      "metadata": {
        "colab": {
          "base_uri": "https://localhost:8080/"
        },
        "id": "1jIhLsebIb4P",
        "outputId": "d59d512f-fa6b-4178-e088-31c87f7f8b94"
      },
      "source": [
        "#cd /content/drive/MyDrive/Colab Notebooks/NienLuanNganh"
      ],
      "execution_count": null,
      "outputs": [
        {
          "output_type": "stream",
          "name": "stdout",
          "text": [
            "/content/drive/MyDrive/Colab Notebooks/NienLuanNganh\n"
          ]
        }
      ]
    },
    {
      "cell_type": "code",
      "metadata": {
        "id": "T6DSeI2cIPGF"
      },
      "source": [
        "raw_folder = \"./data/\"\n",
        "def save_data(raw_folder=raw_folder):\n",
        "    print(\"Bắt đầu xử lý ảnh...\")\n",
        "\n",
        "    pixels = []\n",
        "    labels = []\n",
        "\n",
        "    # Lặp qua các folder con trong thư mục raw\n",
        "    for folder in listdir(raw_folder):\n",
        "        if folder!='.DS_Store':\n",
        "            print(\"Folder=\",folder)\n",
        "            # Lặp qua các file trong từng thư mục chứa các em\n",
        "            for file in listdir(raw_folder  + folder):\n",
        "                if file!='.DS_Store':\n",
        "                    print(\"File=\", file)\n",
        "                    pixels.append( cv2.resize(cv2.imread(raw_folder  + folder +\"/\" + file),dsize=(224,224)))\n",
        "                    labels.append( folder)\n",
        "\n",
        "    pixels = np.array(pixels)\n",
        "    labels = np.array(labels)#.reshape(-1,1)\n",
        "\n",
        "    from sklearn.preprocessing import LabelBinarizer\n",
        "    encoder = LabelBinarizer()\n",
        "    labels = encoder.fit_transform(labels)\n",
        "    print(labels)\n",
        "\n",
        "    file = open('moneydata.data', 'wb')\n",
        "    # dump information to that file\n",
        "    pickle.dump((pixels,labels), file)\n",
        "    # close the file\n",
        "    file.close()\n",
        "\n",
        "    return"
      ],
      "execution_count": null,
      "outputs": []
    },
    {
      "cell_type": "code",
      "metadata": {
        "id": "CwEoY1U4IugF"
      },
      "source": [
        "#save_data()"
      ],
      "execution_count": null,
      "outputs": []
    },
    {
      "cell_type": "code",
      "metadata": {
        "id": "iCSxJh57k1lG"
      },
      "source": [
        "def load_data():\n",
        "    file = open('./moneydata.data', 'rb')\n",
        "\n",
        "    # dump information to that file\n",
        "    (pixels, labels) = pickle.load(file)\n",
        "\n",
        "    # close the file\n",
        "    file.close()\n",
        "\n",
        "    print(pixels.shape)\n",
        "    print(labels.shape)\n",
        "\n",
        "    return pixels, labels"
      ],
      "execution_count": null,
      "outputs": []
    },
    {
      "cell_type": "code",
      "metadata": {
        "colab": {
          "base_uri": "https://localhost:8080/"
        },
        "id": "h1Wnj3crlWX2",
        "outputId": "e6aa6187-8479-41d1-8f76-ea00d383cea6"
      },
      "source": [
        "X,y = load_data()"
      ],
      "execution_count": null,
      "outputs": [
        {
          "output_type": "stream",
          "name": "stdout",
          "text": [
            "(6000, 224, 224, 3)\n",
            "(6000, 6)\n"
          ]
        }
      ]
    },
    {
      "cell_type": "code",
      "metadata": {
        "id": "Z2s5reJHlf4r"
      },
      "source": [
        "# Chia tập dữ liệu gồm tập train và tập validation dùng để kiểm tra độ chính xác lúc huấn luyện\n",
        "X_train, X_val, y_train, y_val = train_test_split( X, y, test_size=0.2, random_state=100)"
      ],
      "execution_count": null,
      "outputs": []
    },
    {
      "cell_type": "code",
      "source": [
        "X_val.shape"
      ],
      "metadata": {
        "colab": {
          "base_uri": "https://localhost:8080/"
        },
        "id": "CbG_yYBjwBvz",
        "outputId": "d4dcc380-0043-4824-a7d0-bb093f8c69e2"
      },
      "execution_count": null,
      "outputs": [
        {
          "output_type": "execute_result",
          "data": {
            "text/plain": [
              "(1200, 224, 224, 3)"
            ]
          },
          "metadata": {},
          "execution_count": 9
        }
      ]
    },
    {
      "cell_type": "code",
      "metadata": {
        "id": "ziBNNboZljxc",
        "colab": {
          "base_uri": "https://localhost:8080/"
        },
        "outputId": "37a2ddbe-3780-455f-c736-23ec33f6355e"
      },
      "source": [
        "# Load model VGG16\n",
        "model_vgg16_conv = VGG16(weights='imagenet', include_top=False)"
      ],
      "execution_count": null,
      "outputs": [
        {
          "output_type": "stream",
          "name": "stdout",
          "text": [
            "Downloading data from https://storage.googleapis.com/tensorflow/keras-applications/vgg16/vgg16_weights_tf_dim_ordering_tf_kernels_notop.h5\n",
            "58892288/58889256 [==============================] - 0s 0us/step\n",
            "58900480/58889256 [==============================] - 0s 0us/step\n"
          ]
        }
      ]
    },
    {
      "cell_type": "code",
      "metadata": {
        "id": "dMed6gcRTOGa",
        "colab": {
          "base_uri": "https://localhost:8080/"
        },
        "outputId": "ae2548d2-b8e8-4942-fa16-41d3987505d8"
      },
      "source": [
        "# Mô hình mạng ban đầu\n",
        "model_vgg16_conv.summary()"
      ],
      "execution_count": null,
      "outputs": [
        {
          "output_type": "stream",
          "name": "stdout",
          "text": [
            "Model: \"vgg16\"\n",
            "_________________________________________________________________\n",
            " Layer (type)                Output Shape              Param #   \n",
            "=================================================================\n",
            " input_1 (InputLayer)        [(None, None, None, 3)]   0         \n",
            "                                                                 \n",
            " block1_conv1 (Conv2D)       (None, None, None, 64)    1792      \n",
            "                                                                 \n",
            " block1_conv2 (Conv2D)       (None, None, None, 64)    36928     \n",
            "                                                                 \n",
            " block1_pool (MaxPooling2D)  (None, None, None, 64)    0         \n",
            "                                                                 \n",
            " block2_conv1 (Conv2D)       (None, None, None, 128)   73856     \n",
            "                                                                 \n",
            " block2_conv2 (Conv2D)       (None, None, None, 128)   147584    \n",
            "                                                                 \n",
            " block2_pool (MaxPooling2D)  (None, None, None, 128)   0         \n",
            "                                                                 \n",
            " block3_conv1 (Conv2D)       (None, None, None, 256)   295168    \n",
            "                                                                 \n",
            " block3_conv2 (Conv2D)       (None, None, None, 256)   590080    \n",
            "                                                                 \n",
            " block3_conv3 (Conv2D)       (None, None, None, 256)   590080    \n",
            "                                                                 \n",
            " block3_pool (MaxPooling2D)  (None, None, None, 256)   0         \n",
            "                                                                 \n",
            " block4_conv1 (Conv2D)       (None, None, None, 512)   1180160   \n",
            "                                                                 \n",
            " block4_conv2 (Conv2D)       (None, None, None, 512)   2359808   \n",
            "                                                                 \n",
            " block4_conv3 (Conv2D)       (None, None, None, 512)   2359808   \n",
            "                                                                 \n",
            " block4_pool (MaxPooling2D)  (None, None, None, 512)   0         \n",
            "                                                                 \n",
            " block5_conv1 (Conv2D)       (None, None, None, 512)   2359808   \n",
            "                                                                 \n",
            " block5_conv2 (Conv2D)       (None, None, None, 512)   2359808   \n",
            "                                                                 \n",
            " block5_conv3 (Conv2D)       (None, None, None, 512)   2359808   \n",
            "                                                                 \n",
            " block5_pool (MaxPooling2D)  (None, None, None, 512)   0         \n",
            "                                                                 \n",
            "=================================================================\n",
            "Total params: 14,714,688\n",
            "Trainable params: 14,714,688\n",
            "Non-trainable params: 0\n",
            "_________________________________________________________________\n"
          ]
        }
      ]
    },
    {
      "cell_type": "code",
      "metadata": {
        "id": "3dsGJRHdlo97"
      },
      "source": [
        "# Dong bang cac layer\n",
        "for layer in model_vgg16_conv.layers:\n",
        "  layer.trainable = False"
      ],
      "execution_count": null,
      "outputs": []
    },
    {
      "cell_type": "code",
      "metadata": {
        "id": "Tz1RiIs9Uu33",
        "colab": {
          "base_uri": "https://localhost:8080/"
        },
        "outputId": "85223f32-2dd8-4f74-ec15-70275c9ff5bf"
      },
      "source": [
        "# Mô hình mạng khi đã đóng băng các layer\n",
        "model_vgg16_conv.summary()"
      ],
      "execution_count": null,
      "outputs": [
        {
          "output_type": "stream",
          "name": "stdout",
          "text": [
            "Model: \"vgg16\"\n",
            "_________________________________________________________________\n",
            " Layer (type)                Output Shape              Param #   \n",
            "=================================================================\n",
            " input_1 (InputLayer)        [(None, None, None, 3)]   0         \n",
            "                                                                 \n",
            " block1_conv1 (Conv2D)       (None, None, None, 64)    1792      \n",
            "                                                                 \n",
            " block1_conv2 (Conv2D)       (None, None, None, 64)    36928     \n",
            "                                                                 \n",
            " block1_pool (MaxPooling2D)  (None, None, None, 64)    0         \n",
            "                                                                 \n",
            " block2_conv1 (Conv2D)       (None, None, None, 128)   73856     \n",
            "                                                                 \n",
            " block2_conv2 (Conv2D)       (None, None, None, 128)   147584    \n",
            "                                                                 \n",
            " block2_pool (MaxPooling2D)  (None, None, None, 128)   0         \n",
            "                                                                 \n",
            " block3_conv1 (Conv2D)       (None, None, None, 256)   295168    \n",
            "                                                                 \n",
            " block3_conv2 (Conv2D)       (None, None, None, 256)   590080    \n",
            "                                                                 \n",
            " block3_conv3 (Conv2D)       (None, None, None, 256)   590080    \n",
            "                                                                 \n",
            " block3_pool (MaxPooling2D)  (None, None, None, 256)   0         \n",
            "                                                                 \n",
            " block4_conv1 (Conv2D)       (None, None, None, 512)   1180160   \n",
            "                                                                 \n",
            " block4_conv2 (Conv2D)       (None, None, None, 512)   2359808   \n",
            "                                                                 \n",
            " block4_conv3 (Conv2D)       (None, None, None, 512)   2359808   \n",
            "                                                                 \n",
            " block4_pool (MaxPooling2D)  (None, None, None, 512)   0         \n",
            "                                                                 \n",
            " block5_conv1 (Conv2D)       (None, None, None, 512)   2359808   \n",
            "                                                                 \n",
            " block5_conv2 (Conv2D)       (None, None, None, 512)   2359808   \n",
            "                                                                 \n",
            " block5_conv3 (Conv2D)       (None, None, None, 512)   2359808   \n",
            "                                                                 \n",
            " block5_pool (MaxPooling2D)  (None, None, None, 512)   0         \n",
            "                                                                 \n",
            "=================================================================\n",
            "Total params: 14,714,688\n",
            "Trainable params: 0\n",
            "Non-trainable params: 14,714,688\n",
            "_________________________________________________________________\n"
          ]
        }
      ]
    },
    {
      "cell_type": "code",
      "metadata": {
        "id": "3Y_JEA7elzET"
      },
      "source": [
        "# Tao model\n",
        "input = Input(shape=(224,224,3), name='image_input')\n",
        "output_vgg16_conv = model_vgg16_conv(input)\n",
        "\n",
        "# Them cac layer FC va Dropout\n",
        "x = Flatten(name='flatten')(output_vgg16_conv)\n",
        "x = Dense(4096, activation='relu', name='fc1')(x)\n",
        "x = Dropout(0.3)(x)\n",
        "x = Dense(4096, activation='relu', name='fc2')(x)\n",
        "x = Dropout(0.3)(x)\n",
        "\n",
        "x = Dense(6, activation='softmax', name='predictions')(x)\n",
        "\n",
        "# Compile\n",
        "vggmodel = Model(inputs=input, outputs=x)\n",
        "vggmodel.compile(loss='categorical_crossentropy', optimizer='adam', metrics=['accuracy'])"
      ],
      "execution_count": null,
      "outputs": []
    },
    {
      "cell_type": "code",
      "metadata": {
        "id": "dz63_I_7TlzN",
        "colab": {
          "base_uri": "https://localhost:8080/"
        },
        "outputId": "7ac98712-aeec-421f-8deb-58d875064dcb"
      },
      "source": [
        "# Mô hình mạng khi thêm một số tầng\n",
        "vggmodel.summary()"
      ],
      "execution_count": null,
      "outputs": [
        {
          "output_type": "stream",
          "name": "stdout",
          "text": [
            "Model: \"model\"\n",
            "_________________________________________________________________\n",
            " Layer (type)                Output Shape              Param #   \n",
            "=================================================================\n",
            " image_input (InputLayer)    [(None, 224, 224, 3)]     0         \n",
            "                                                                 \n",
            " vgg16 (Functional)          (None, None, None, 512)   14714688  \n",
            "                                                                 \n",
            " flatten (Flatten)           (None, 25088)             0         \n",
            "                                                                 \n",
            " fc1 (Dense)                 (None, 4096)              102764544 \n",
            "                                                                 \n",
            " dropout (Dropout)           (None, 4096)              0         \n",
            "                                                                 \n",
            " fc2 (Dense)                 (None, 4096)              16781312  \n",
            "                                                                 \n",
            " dropout_1 (Dropout)         (None, 4096)              0         \n",
            "                                                                 \n",
            " predictions (Dense)         (None, 6)                 24582     \n",
            "                                                                 \n",
            "=================================================================\n",
            "Total params: 134,285,126\n",
            "Trainable params: 119,570,438\n",
            "Non-trainable params: 14,714,688\n",
            "_________________________________________________________________\n"
          ]
        }
      ]
    },
    {
      "cell_type": "code",
      "metadata": {
        "id": "3fMe8Qaas5vK"
      },
      "source": [
        "aug = ImageDataGenerator(rotation_range=20, zoom_range=0.1,\n",
        "                         rescale=1./255,\n",
        "                         width_shift_range=0.1,\n",
        "                         height_shift_range=0.1,\n",
        "                         horizontal_flip=True,\n",
        "                         brightness_range=[0.2,1.5], \n",
        "                         fill_mode=\"nearest\")"
      ],
      "execution_count": null,
      "outputs": []
    },
    {
      "cell_type": "code",
      "metadata": {
        "id": "ZwRKl5uopzv3"
      },
      "source": [
        "# Kiểm tra qua trình huấn luyện và lưu lại mô hình đạt kết quả tốt nhất\n",
        "filepath = \"final_model.h5\"\n",
        "checkpoint = ModelCheckpoint(filepath, monitor='val_accuracy', verbose=1, save_best_only=True, mode='max')\n",
        "callbacks_list = [checkpoint]"
      ],
      "execution_count": null,
      "outputs": []
    },
    {
      "cell_type": "code",
      "metadata": {
        "id": "QnurhQVRtBKJ",
        "colab": {
          "base_uri": "https://localhost:8080/"
        },
        "outputId": "bcd7efac-08e3-49ec-d1d4-869495210f61"
      },
      "source": [
        "# Huấn luyện với 5 lần huấn luyện\n",
        "vgghist=vggmodel.fit_generator(aug.flow(X_train, y_train, batch_size=64),\n",
        "                               epochs=5,\n",
        "                               steps_per_epoch=len(X_train)//64,\n",
        "                               validation_data=aug.flow(X_val,y_val, batch_size=64),\n",
        "                               callbacks=callbacks_list)"
      ],
      "execution_count": null,
      "outputs": [
        {
          "output_type": "stream",
          "name": "stderr",
          "text": [
            "/usr/local/lib/python3.7/dist-packages/ipykernel_launcher.py:5: UserWarning: `Model.fit_generator` is deprecated and will be removed in a future version. Please use `Model.fit`, which supports generators.\n",
            "  \"\"\"\n"
          ]
        },
        {
          "output_type": "stream",
          "name": "stdout",
          "text": [
            "Epoch 1/5\n",
            "75/75 [==============================] - ETA: 0s - loss: 3.9638 - accuracy: 0.5098\n",
            "Epoch 00001: val_accuracy improved from -inf to 0.83333, saving model to final_model.h5\n",
            "75/75 [==============================] - 143s 2s/step - loss: 3.9638 - accuracy: 0.5098 - val_loss: 0.4115 - val_accuracy: 0.8333\n",
            "Epoch 2/5\n",
            "75/75 [==============================] - ETA: 0s - loss: 0.3267 - accuracy: 0.8800\n",
            "Epoch 00002: val_accuracy improved from 0.83333 to 0.96833, saving model to final_model.h5\n",
            "75/75 [==============================] - 122s 2s/step - loss: 0.3267 - accuracy: 0.8800 - val_loss: 0.1083 - val_accuracy: 0.9683\n",
            "Epoch 3/5\n",
            "75/75 [==============================] - ETA: 0s - loss: 0.2497 - accuracy: 0.9060\n",
            "Epoch 00003: val_accuracy improved from 0.96833 to 0.97000, saving model to final_model.h5\n",
            "75/75 [==============================] - 123s 2s/step - loss: 0.2497 - accuracy: 0.9060 - val_loss: 0.0997 - val_accuracy: 0.9700\n",
            "Epoch 4/5\n",
            "75/75 [==============================] - ETA: 0s - loss: 0.1866 - accuracy: 0.9310\n",
            "Epoch 00004: val_accuracy improved from 0.97000 to 0.98250, saving model to final_model.h5\n",
            "75/75 [==============================] - 122s 2s/step - loss: 0.1866 - accuracy: 0.9310 - val_loss: 0.0623 - val_accuracy: 0.9825\n",
            "Epoch 5/5\n",
            "75/75 [==============================] - ETA: 0s - loss: 0.2586 - accuracy: 0.9033\n",
            "Epoch 00005: val_accuracy did not improve from 0.98250\n",
            "75/75 [==============================] - 100s 1s/step - loss: 0.2586 - accuracy: 0.9033 - val_loss: 0.0915 - val_accuracy: 0.9683\n"
          ]
        }
      ]
    },
    {
      "cell_type": "code",
      "metadata": {
        "colab": {
          "base_uri": "https://localhost:8080/",
          "height": 500
        },
        "id": "brPbcyBYqTBD",
        "outputId": "2978799b-4a23-45d5-c605-8e72a9fa7008"
      },
      "source": [
        "# Vẽ biểu đồ thể hiện quá trình huấn luyện\n",
        "acc = vgghist.history['accuracy']\n",
        "val_acc = vgghist.history['val_accuracy']\n",
        "\n",
        "loss = vgghist.history['loss']\n",
        "val_loss = vgghist.history['val_loss']\n",
        "\n",
        "epochs_range = range(5)\n",
        "\n",
        "plt.figure(figsize=(8, 8))\n",
        "plt.subplot(1, 2, 1)\n",
        "plt.plot(epochs_range, acc, label='Training Accuracy')\n",
        "plt.plot(epochs_range, val_acc, label='Validation Accuracy')\n",
        "plt.legend(loc='lower right')\n",
        "plt.title('Độ chính xác huấn luyện và kiểm tra')\n",
        "\n",
        "plt.subplot(1, 2, 2)\n",
        "plt.plot(epochs_range, loss, label='Training Loss')\n",
        "plt.plot(epochs_range, val_loss, label='Validation Loss')\n",
        "plt.legend(loc='upper right')\n",
        "plt.title('Giá trị mất mát huấn luyện và kiểm tra')\n",
        "plt.show()"
      ],
      "execution_count": null,
      "outputs": [
        {
          "output_type": "display_data",
          "data": {
            "image/png": "[encoded data removed]",
            "text/plain": [
              "<Figure size 576x576 with 2 Axes>"
            ]
          },
          "metadata": {
            "needs_background": "light"
          }
        }
      ]
    }
  ]
}